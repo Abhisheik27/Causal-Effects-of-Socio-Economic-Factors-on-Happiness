{
 "cells": [
  {
   "cell_type": "code",
   "execution_count": 2,
   "metadata": {
    "execution": {
     "iopub.execute_input": "2023-12-14T03:21:22.032912Z",
     "iopub.status.busy": "2023-12-14T03:21:22.032612Z",
     "iopub.status.idle": "2023-12-14T03:21:22.051262Z",
     "shell.execute_reply": "2023-12-14T03:21:22.050401Z",
     "shell.execute_reply.started": "2023-12-14T03:21:22.032884Z"
    },
    "id": "Ig81-iWHhD6k"
   },
   "outputs": [],
   "source": [
    "import numpy as np # linear algebra\n",
    "import pandas as pd # data processing, CSV file I/O (e.g. pd.read_csv)\n",
    "from sklearn.model_selection import train_test_split\n",
    "from lingam import DirectLiNGAM\n",
    "import matplotlib.pyplot as plt\n",
    "import seaborn as sns\n",
    "import matplotlib.pyplot as plt\n",
    "import lingam\n",
    "from lingam.utils import make_dot, make_prior_knowledge"
   ]
  },
  {
   "cell_type": "code",
   "execution_count": 3,
   "metadata": {
    "execution": {
     "iopub.execute_input": "2023-12-14T03:21:22.053087Z",
     "iopub.status.busy": "2023-12-14T03:21:22.052779Z",
     "iopub.status.idle": "2023-12-14T03:21:22.07945Z",
     "shell.execute_reply": "2023-12-14T03:21:22.077986Z",
     "shell.execute_reply.started": "2023-12-14T03:21:22.05306Z"
    },
    "id": "aiYNdejOhD6k"
   },
   "outputs": [
    {
     "data": {
      "text/html": [
       "<div>\n",
       "<style scoped>\n",
       "    .dataframe tbody tr th:only-of-type {\n",
       "        vertical-align: middle;\n",
       "    }\n",
       "\n",
       "    .dataframe tbody tr th {\n",
       "        vertical-align: top;\n",
       "    }\n",
       "\n",
       "    .dataframe thead th {\n",
       "        text-align: right;\n",
       "    }\n",
       "</style>\n",
       "<table border=\"1\" class=\"dataframe\">\n",
       "  <thead>\n",
       "    <tr style=\"text-align: right;\">\n",
       "      <th></th>\n",
       "      <th>Country</th>\n",
       "      <th>Happiness rank</th>\n",
       "      <th>Happiness Score</th>\n",
       "      <th>GDP per capita</th>\n",
       "      <th>Social support</th>\n",
       "      <th>Healthy life</th>\n",
       "      <th>Freedom</th>\n",
       "      <th>Generosity</th>\n",
       "      <th>Corruption</th>\n",
       "      <th>Year</th>\n",
       "    </tr>\n",
       "  </thead>\n",
       "  <tbody>\n",
       "    <tr>\n",
       "      <th>0</th>\n",
       "      <td>Switzerland</td>\n",
       "      <td>1</td>\n",
       "      <td>7.587</td>\n",
       "      <td>1.39651</td>\n",
       "      <td>1.34951</td>\n",
       "      <td>0.94143</td>\n",
       "      <td>0.66557</td>\n",
       "      <td>0.29678</td>\n",
       "      <td>0.41978</td>\n",
       "      <td>2015</td>\n",
       "    </tr>\n",
       "    <tr>\n",
       "      <th>1</th>\n",
       "      <td>Iceland</td>\n",
       "      <td>2</td>\n",
       "      <td>7.561</td>\n",
       "      <td>1.30232</td>\n",
       "      <td>1.40223</td>\n",
       "      <td>0.94784</td>\n",
       "      <td>0.62877</td>\n",
       "      <td>0.43630</td>\n",
       "      <td>0.14145</td>\n",
       "      <td>2015</td>\n",
       "    </tr>\n",
       "    <tr>\n",
       "      <th>2</th>\n",
       "      <td>Denmark</td>\n",
       "      <td>3</td>\n",
       "      <td>7.527</td>\n",
       "      <td>1.32548</td>\n",
       "      <td>1.36058</td>\n",
       "      <td>0.87464</td>\n",
       "      <td>0.64938</td>\n",
       "      <td>0.34139</td>\n",
       "      <td>0.48357</td>\n",
       "      <td>2015</td>\n",
       "    </tr>\n",
       "    <tr>\n",
       "      <th>3</th>\n",
       "      <td>Norway</td>\n",
       "      <td>4</td>\n",
       "      <td>7.522</td>\n",
       "      <td>1.45900</td>\n",
       "      <td>1.33095</td>\n",
       "      <td>0.88521</td>\n",
       "      <td>0.66973</td>\n",
       "      <td>0.34699</td>\n",
       "      <td>0.36503</td>\n",
       "      <td>2015</td>\n",
       "    </tr>\n",
       "    <tr>\n",
       "      <th>4</th>\n",
       "      <td>Canada</td>\n",
       "      <td>5</td>\n",
       "      <td>7.427</td>\n",
       "      <td>1.32629</td>\n",
       "      <td>1.32261</td>\n",
       "      <td>0.90563</td>\n",
       "      <td>0.63297</td>\n",
       "      <td>0.45811</td>\n",
       "      <td>0.32957</td>\n",
       "      <td>2015</td>\n",
       "    </tr>\n",
       "  </tbody>\n",
       "</table>\n",
       "</div>"
      ],
      "text/plain": [
       "       Country  Happiness rank  Happiness Score  GDP per capita  \\\n",
       "0  Switzerland               1            7.587         1.39651   \n",
       "1      Iceland               2            7.561         1.30232   \n",
       "2      Denmark               3            7.527         1.32548   \n",
       "3       Norway               4            7.522         1.45900   \n",
       "4       Canada               5            7.427         1.32629   \n",
       "\n",
       "   Social support  Healthy life  Freedom  Generosity  Corruption  Year  \n",
       "0         1.34951       0.94143  0.66557     0.29678     0.41978  2015  \n",
       "1         1.40223       0.94784  0.62877     0.43630     0.14145  2015  \n",
       "2         1.36058       0.87464  0.64938     0.34139     0.48357  2015  \n",
       "3         1.33095       0.88521  0.66973     0.34699     0.36503  2015  \n",
       "4         1.32261       0.90563  0.63297     0.45811     0.32957  2015  "
      ]
     },
     "execution_count": 3,
     "metadata": {},
     "output_type": "execute_result"
    }
   ],
   "source": [
    "# load data\n",
    "df = pd.read_csv(\"TEH_World_Happiness_2015_2019_Imputed.csv\")\n",
    "df.head()"
   ]
  },
  {
   "cell_type": "code",
   "execution_count": null,
   "metadata": {},
   "outputs": [],
   "source": [
    "df.info()"
   ]
  },
  {
   "cell_type": "code",
   "execution_count": null,
   "metadata": {},
   "outputs": [],
   "source": [
    "df.describe()"
   ]
  },
  {
   "cell_type": "code",
   "execution_count": 4,
   "metadata": {
    "execution": {
     "iopub.execute_input": "2023-12-14T03:21:22.081279Z",
     "iopub.status.busy": "2023-12-14T03:21:22.080923Z",
     "iopub.status.idle": "2023-12-14T03:21:22.090376Z",
     "shell.execute_reply": "2023-12-14T03:21:22.088991Z",
     "shell.execute_reply.started": "2023-12-14T03:21:22.081249Z"
    },
    "id": "9Y_2VXb3hD6k"
   },
   "outputs": [
    {
     "data": {
      "text/plain": [
       "Country            0\n",
       "Happiness rank     0\n",
       "Happiness Score    0\n",
       "GDP per capita     5\n",
       "Social support     5\n",
       "Healthy life       5\n",
       "Freedom            5\n",
       "Generosity         5\n",
       "Corruption         7\n",
       "Year               0\n",
       "dtype: int64"
      ]
     },
     "execution_count": 4,
     "metadata": {},
     "output_type": "execute_result"
    }
   ],
   "source": [
    "# Missing values\n",
    "df.isnull().sum()"
   ]
  },
  {
   "cell_type": "code",
   "execution_count": 5,
   "metadata": {
    "execution": {
     "iopub.execute_input": "2023-12-14T03:21:22.094154Z",
     "iopub.status.busy": "2023-12-14T03:21:22.093729Z",
     "iopub.status.idle": "2023-12-14T03:21:22.105981Z",
     "shell.execute_reply": "2023-12-14T03:21:22.104639Z",
     "shell.execute_reply.started": "2023-12-14T03:21:22.094119Z"
    },
    "id": "OzK_WUwQhD6k"
   },
   "outputs": [],
   "source": [
    "# Drop the specified column\n",
    "column_to_drop = ['Country']\n",
    "df = df.drop(column_to_drop, axis=1)\n",
    "column_to_drop = ['Happiness rank']\n",
    "df = df.drop(column_to_drop, axis=1)\n",
    "#Dropping the missing value rows\n",
    "df_cleaned = df.dropna()"
   ]
  },
  {
   "cell_type": "code",
   "execution_count": null,
   "metadata": {},
   "outputs": [],
   "source": [
    "correlation_matrix = df_cleaned.corr(method='pearson')\n",
    "print(correlation_matrix)\n",
    "\n",
    "#Visualizing relationships using pair plots or heatmaps\n",
    "sns.pairplot(df)\n",
    "plt.show()"
   ]
  },
  {
   "cell_type": "code",
   "execution_count": 6,
   "metadata": {
    "execution": {
     "iopub.execute_input": "2023-12-14T03:21:22.107797Z",
     "iopub.status.busy": "2023-12-14T03:21:22.107469Z",
     "iopub.status.idle": "2023-12-14T03:21:22.531769Z",
     "shell.execute_reply": "2023-12-14T03:21:22.530582Z",
     "shell.execute_reply.started": "2023-12-14T03:21:22.107763Z"
    },
    "id": "Q4yXbq-9hD6l"
   },
   "outputs": [
    {
     "data": {
      "image/png": "[encoded data removed]",
      "text/plain": [
       "<Figure size 1000x800 with 2 Axes>"
      ]
     },
     "metadata": {},
     "output_type": "display_data"
    }
   ],
   "source": [
    "# Visualize correlation matrix as a heatmap\n",
    "plt.figure(figsize=(10, 8))\n",
    "sns.heatmap(\n",
    "    correlation_matrix,\n",
    "    annot=True,\n",
    "    cmap=\"coolwarm\",\n",
    "    fmt=\".2f\",  # Format for the annotations (2 decimal places)\n",
    "    linewidths=0.5,\n",
    "    square=True,\n",
    "    cbar_kws={\"shrink\": 0.75}  # Adjust color bar size\n",
    ")\n",
    "\n",
    "plt.title(\"Pearson Correlation Coefficients Heatmap\")\n",
    "plt.show()"
   ]
  },
  {
   "cell_type": "code",
   "execution_count": null,
   "metadata": {},
   "outputs": [],
   "source": [
    "X = df_cleaned[['GDP per capita', 'Social support', 'Healthy life', 'Freedom']]\n",
    "X = sm.add_constant(X)\n",
    "y = df_cleaned['Happiness Score']\n"
   ]
  },
  {
   "cell_type": "code",
   "execution_count": null,
   "metadata": {},
   "outputs": [],
   "source": [
    "model = sm.OLS(y, X).fit()\n",
    "print(model.summary())"
   ]
  },
  {
   "cell_type": "code",
   "execution_count": null,
   "metadata": {},
   "outputs": [],
   "source": [
    "data = df_cleaned.copy()\n",
    "\n",
    "# Split the data into training and testing sets\n",
    "train_data, test_data = train_test_split(data, test_size=0.2, random_state=42)\n",
    "\n",
    "# Fit a linear regression model for the outcome variable ('Happiness Score')\n",
    "model = LinearRegression()\n",
    "features = ['GDP per capita', 'Social support', 'Healthy life', 'Freedom']\n",
    "\n",
    "model.fit(train_data[features], train_data['Happiness Score'])\n",
    "\n",
    "# Predict the outcome variable on the test set\n",
    "test_data['Predicted Happiness Score'] = model.predict(test_data[features])\n",
    "\n",
    "# Assess the performance of the linear regression model\n",
    "mse = mean_squared_error(test_data['Happiness Score'], test_data['Predicted Happiness Score'])\n",
    "print(f'Mean Squared Error (MSE) of the model: {mse}')\n",
    "\n",
    "# Perform causal inference using DoWhy for each feature\n",
    "for feature in features:\n",
    "    print(f\"\\nCausal Inference for {feature} as the treatment variable:\")\n",
    "    \n",
    "    # Create a causal model for the specific feature\n",
    "    causal_model = CausalModel(\n",
    "        data=train_data,\n",
    "        treatment=feature,\n",
    "        outcome='Happiness Score',\n",
    "        common_causes=[col for col in features if col != feature]\n",
    "    )\n",
    "\n",
    "    # Identify the causal effect\n",
    "    identified_estimand = causal_model.identify_effect()\n",
    "\n",
    "    # Estimate the causal effect using linear regression\n",
    "    causal_estimate = causal_model.estimate_effect(identified_estimand, method_name=\"backdoor.linear_regression\")\n",
    "\n",
    "    # Print the estimated average treatment effect\n",
    "    print(f'Estimated Average Treatment Effect: {causal_estimate.value}')\n"
   ]
  },
  {
   "cell_type": "code",
   "execution_count": null,
   "metadata": {},
   "outputs": [],
   "source": [
    "import pandas as pd\n",
    "import numpy as np\n",
    "from sklearn.model_selection import train_test_split\n",
    "from sklearn.linear_model import LinearRegression  # Use LinearRegression for continuous outcome\n",
    "from sklearn.preprocessing import StandardScaler\n",
    "from sklearn.neighbors import NearestNeighbors\n",
    "from dowhy import CausalModel\n",
    "\n",
    "# Specify the columns in your dataset\n",
    "features = ['GDP per capita', 'Social support', 'Healthy life', 'Freedom']\n",
    "treatment_variable = 'Happiness Score'\n",
    "outcome_variable = 'Happiness Score'\n",
    "\n",
    "# Split the data into training and testing sets\n",
    "train_data, test_data = train_test_split(data, test_size=0.2, random_state=42)\n",
    "\n",
    "# Fit a linear regression model for the treatment variable\n",
    "linear_model = LinearRegression()\n",
    "linear_model.fit(train_data[features], train_data[treatment_variable])\n",
    "\n",
    "# Predict propensity scores on the training set\n",
    "train_data['Propensity Score'] = linear_model.predict(train_data[features])\n",
    "\n",
    "# Apply propensity score matching\n",
    "scaler = StandardScaler()\n",
    "scaled_features = scaler.fit_transform(train_data[features])\n",
    "scaled_treatment = np.array(train_data['Propensity Score']).reshape(-1, 1)\n",
    "\n",
    "# Use nearest neighbors to find matches with a larger number of neighbors (e.g., 5)\n",
    "neighbors = NearestNeighbors(n_neighbors=5)\n",
    "neighbors.fit(np.hstack([scaled_features, scaled_treatment]))\n",
    "\n",
    "# Find nearest neighbors in the test set\n",
    "test_data['Propensity Score'] = linear_model.predict(test_data[features])\n",
    "scaled_test_features = scaler.transform(test_data[features])\n",
    "scaled_test_treatment = np.array(test_data['Propensity Score']).reshape(-1, 1)\n",
    "\n",
    "distances, indices = neighbors.kneighbors(np.hstack([scaled_test_features, scaled_test_treatment]))\n",
    "\n",
    "# Create matched dataset\n",
    "matched_data = train_data.iloc[indices.flatten()]\n",
    "\n",
    "# Perform causal inference using DoWhy for each feature\n",
    "for feature in features:\n",
    "    # Perform causal inference using the matched data\n",
    "    causal_model_matched = CausalModel(\n",
    "        data=matched_data,\n",
    "        treatment=feature,\n",
    "        outcome=outcome_variable,\n",
    "        common_causes=[col for col in features if col != feature]\n",
    "    )\n",
    "\n",
    "    # Identify the causal effect\n",
    "    identified_estimand = causal_model_matched.identify_effect()\n",
    "\n",
    "    # Estimate the causal effect using linear regression\n",
    "    causal_estimate = causal_model_matched.estimate_effect(identified_estimand, method_name=\"backdoor.linear_regression\")\n",
    "\n",
    "    # Print the estimated average treatment effect\n",
    "    print(f'Estimated Average Treatment Effect with Propensity Score Matching for {feature}: {causal_estimate.value}')\n"
   ]
  },
  {
   "cell_type": "code",
   "execution_count": 7,
   "metadata": {
    "execution": {
     "iopub.execute_input": "2023-12-14T03:21:22.533234Z",
     "iopub.status.busy": "2023-12-14T03:21:22.532964Z",
     "iopub.status.idle": "2023-12-14T03:21:22.539412Z",
     "shell.execute_reply": "2023-12-14T03:21:22.538084Z",
     "shell.execute_reply.started": "2023-12-14T03:21:22.533208Z"
    },
    "id": "bZIBAwV_hD6l"
   },
   "outputs": [],
   "source": [
    "data = df_cleaned.copy()\n",
    "\n",
    "features = ['GDP per capita', 'Social support', 'Healthy life', 'Freedom']\n",
    "outcome_variable = 'Happiness Score'"
   ]
  },
  {
   "cell_type": "code",
   "execution_count": 8,
   "metadata": {
    "execution": {
     "iopub.execute_input": "2023-12-14T03:21:22.541154Z",
     "iopub.status.busy": "2023-12-14T03:21:22.540836Z",
     "iopub.status.idle": "2023-12-14T03:21:22.552088Z",
     "shell.execute_reply": "2023-12-14T03:21:22.550736Z",
     "shell.execute_reply.started": "2023-12-14T03:21:22.541125Z"
    },
    "id": "POh4AjEkhD6m"
   },
   "outputs": [],
   "source": [
    "# Split the data into training and testing sets\n",
    "train_data, test_data = train_test_split(data, test_size=0.2, random_state=42)"
   ]
  },
  {
   "cell_type": "code",
   "execution_count": 9,
   "metadata": {
    "execution": {
     "iopub.execute_input": "2023-12-14T03:21:22.554098Z",
     "iopub.status.busy": "2023-12-14T03:21:22.553684Z",
     "iopub.status.idle": "2023-12-14T03:21:22.598485Z",
     "shell.execute_reply": "2023-12-14T03:21:22.597128Z",
     "shell.execute_reply.started": "2023-12-14T03:21:22.554063Z"
    },
    "id": "L7XREn15hD6m"
   },
   "outputs": [
    {
     "name": "stderr",
     "output_type": "stream",
     "text": [
      "/Users/anuj/anaconda3/lib/python3.11/site-packages/sklearn/utils/validation.py:767: FutureWarning: is_sparse is deprecated and will be removed in a future version. Check `isinstance(dtype, pd.SparseDtype)` instead.\n",
      "  if not hasattr(array, \"sparse\") and array.dtypes.apply(is_sparse).any():\n",
      "/Users/anuj/anaconda3/lib/python3.11/site-packages/sklearn/utils/validation.py:605: FutureWarning: is_sparse is deprecated and will be removed in a future version. Check `isinstance(dtype, pd.SparseDtype)` instead.\n",
      "  if is_sparse(pd_dtype):\n",
      "/Users/anuj/anaconda3/lib/python3.11/site-packages/sklearn/utils/validation.py:614: FutureWarning: is_sparse is deprecated and will be removed in a future version. Check `isinstance(dtype, pd.SparseDtype)` instead.\n",
      "  if is_sparse(pd_dtype) or not is_extension_array_dtype(pd_dtype):\n"
     ]
    },
    {
     "data": {
      "text/plain": [
       "<lingam.direct_lingam.DirectLiNGAM at 0x17e170450>"
      ]
     },
     "execution_count": 9,
     "metadata": {},
     "output_type": "execute_result"
    }
   ],
   "source": [
    "# Use LiNGAM to estimate causal relationships\n",
    "model = lingam.DirectLiNGAM(\n",
    "                    random_state=42,\n",
    "                    measure = 'pwling'\n",
    "                    )\n",
    "model.fit(train_data[features])"
   ]
  },
  {
   "cell_type": "code",
   "execution_count": 12,
   "metadata": {
    "execution": {
     "iopub.execute_input": "2023-12-14T03:21:22.600967Z",
     "iopub.status.busy": "2023-12-14T03:21:22.600309Z",
     "iopub.status.idle": "2023-12-14T03:21:22.643068Z",
     "shell.execute_reply": "2023-12-14T03:21:22.641689Z",
     "shell.execute_reply.started": "2023-12-14T03:21:22.600935Z"
    },
    "id": "oM8RBxTbhD6m"
   },
   "outputs": [
    {
     "name": "stdout",
     "output_type": "stream",
     "text": [
      "Adjacency Matrix Dimensions: (4, 4)\n",
      "Number of Labels: 4\n"
     ]
    },
    {
     "ename": "ExecutableNotFound",
     "evalue": "failed to execute PosixPath('dot'), make sure the Graphviz executables are on your systems' PATH",
     "output_type": "error",
     "traceback": [
      "\u001b[0;31m---------------------------------------------------------------------------\u001b[0m",
      "\u001b[0;31mFileNotFoundError\u001b[0m                         Traceback (most recent call last)",
      "File \u001b[0;32m~/anaconda3/lib/python3.11/site-packages/graphviz/backend/execute.py:78\u001b[0m, in \u001b[0;36mrun_check\u001b[0;34m(cmd, input_lines, encoding, quiet, **kwargs)\u001b[0m\n\u001b[1;32m     77\u001b[0m     \u001b[38;5;28;01melse\u001b[39;00m:\n\u001b[0;32m---> 78\u001b[0m         proc \u001b[38;5;241m=\u001b[39m subprocess\u001b[38;5;241m.\u001b[39mrun(cmd, \u001b[38;5;241m*\u001b[39m\u001b[38;5;241m*\u001b[39mkwargs)\n\u001b[1;32m     79\u001b[0m \u001b[38;5;28;01mexcept\u001b[39;00m \u001b[38;5;167;01mOSError\u001b[39;00m \u001b[38;5;28;01mas\u001b[39;00m e:\n",
      "File \u001b[0;32m~/anaconda3/lib/python3.11/subprocess.py:548\u001b[0m, in \u001b[0;36mrun\u001b[0;34m(input, capture_output, timeout, check, *popenargs, **kwargs)\u001b[0m\n\u001b[1;32m    546\u001b[0m     kwargs[\u001b[38;5;124m'\u001b[39m\u001b[38;5;124mstderr\u001b[39m\u001b[38;5;124m'\u001b[39m] \u001b[38;5;241m=\u001b[39m PIPE\n\u001b[0;32m--> 548\u001b[0m \u001b[38;5;28;01mwith\u001b[39;00m Popen(\u001b[38;5;241m*\u001b[39mpopenargs, \u001b[38;5;241m*\u001b[39m\u001b[38;5;241m*\u001b[39mkwargs) \u001b[38;5;28;01mas\u001b[39;00m process:\n\u001b[1;32m    549\u001b[0m     \u001b[38;5;28;01mtry\u001b[39;00m:\n",
      "File \u001b[0;32m~/anaconda3/lib/python3.11/subprocess.py:1026\u001b[0m, in \u001b[0;36mPopen.__init__\u001b[0;34m(self, args, bufsize, executable, stdin, stdout, stderr, preexec_fn, close_fds, shell, cwd, env, universal_newlines, startupinfo, creationflags, restore_signals, start_new_session, pass_fds, user, group, extra_groups, encoding, errors, text, umask, pipesize, process_group)\u001b[0m\n\u001b[1;32m   1023\u001b[0m             \u001b[38;5;28mself\u001b[39m\u001b[38;5;241m.\u001b[39mstderr \u001b[38;5;241m=\u001b[39m io\u001b[38;5;241m.\u001b[39mTextIOWrapper(\u001b[38;5;28mself\u001b[39m\u001b[38;5;241m.\u001b[39mstderr,\n\u001b[1;32m   1024\u001b[0m                     encoding\u001b[38;5;241m=\u001b[39mencoding, errors\u001b[38;5;241m=\u001b[39merrors)\n\u001b[0;32m-> 1026\u001b[0m     \u001b[38;5;28mself\u001b[39m\u001b[38;5;241m.\u001b[39m_execute_child(args, executable, preexec_fn, close_fds,\n\u001b[1;32m   1027\u001b[0m                         pass_fds, cwd, env,\n\u001b[1;32m   1028\u001b[0m                         startupinfo, creationflags, shell,\n\u001b[1;32m   1029\u001b[0m                         p2cread, p2cwrite,\n\u001b[1;32m   1030\u001b[0m                         c2pread, c2pwrite,\n\u001b[1;32m   1031\u001b[0m                         errread, errwrite,\n\u001b[1;32m   1032\u001b[0m                         restore_signals,\n\u001b[1;32m   1033\u001b[0m                         gid, gids, uid, umask,\n\u001b[1;32m   1034\u001b[0m                         start_new_session, process_group)\n\u001b[1;32m   1035\u001b[0m \u001b[38;5;28;01mexcept\u001b[39;00m:\n\u001b[1;32m   1036\u001b[0m     \u001b[38;5;66;03m# Cleanup if the child failed starting.\u001b[39;00m\n",
      "File \u001b[0;32m~/anaconda3/lib/python3.11/subprocess.py:1950\u001b[0m, in \u001b[0;36mPopen._execute_child\u001b[0;34m(self, args, executable, preexec_fn, close_fds, pass_fds, cwd, env, startupinfo, creationflags, shell, p2cread, p2cwrite, c2pread, c2pwrite, errread, errwrite, restore_signals, gid, gids, uid, umask, start_new_session, process_group)\u001b[0m\n\u001b[1;32m   1949\u001b[0m         err_msg \u001b[38;5;241m=\u001b[39m os\u001b[38;5;241m.\u001b[39mstrerror(errno_num)\n\u001b[0;32m-> 1950\u001b[0m     \u001b[38;5;28;01mraise\u001b[39;00m child_exception_type(errno_num, err_msg, err_filename)\n\u001b[1;32m   1951\u001b[0m \u001b[38;5;28;01mraise\u001b[39;00m child_exception_type(err_msg)\n",
      "\u001b[0;31mFileNotFoundError\u001b[0m: [Errno 2] No such file or directory: PosixPath('dot')",
      "\nThe above exception was the direct cause of the following exception:\n",
      "\u001b[0;31mExecutableNotFound\u001b[0m                        Traceback (most recent call last)",
      "Cell \u001b[0;32mIn[12], line 24\u001b[0m\n\u001b[1;32m     21\u001b[0m     \u001b[38;5;28mprint\u001b[39m(\u001b[38;5;124mf\u001b[39m\u001b[38;5;124m\"\u001b[39m\u001b[38;5;124mCausal graph image saved as \u001b[39m\u001b[38;5;132;01m{\u001b[39;00mfilename\u001b[38;5;132;01m}\u001b[39;00m\u001b[38;5;124m.png\u001b[39m\u001b[38;5;124m\"\u001b[39m)\n\u001b[1;32m     23\u001b[0m \u001b[38;5;66;03m# Visualize the causal graph for the first 4 nodes\u001b[39;00m\n\u001b[0;32m---> 24\u001b[0m plot_causal_graph(model\u001b[38;5;241m.\u001b[39madjacency_matrix_, data\u001b[38;5;241m.\u001b[39mcolumns\u001b[38;5;241m.\u001b[39mto_list()[:\u001b[38;5;241m4\u001b[39m])\n",
      "Cell \u001b[0;32mIn[12], line 20\u001b[0m, in \u001b[0;36mplot_causal_graph\u001b[0;34m(adjacency_matrix, labels)\u001b[0m\n\u001b[1;32m     17\u001b[0m             dot\u001b[38;5;241m.\u001b[39medge(\u001b[38;5;28mstr\u001b[39m(i), \u001b[38;5;28mstr\u001b[39m(j), label\u001b[38;5;241m=\u001b[39m\u001b[38;5;124mf\u001b[39m\u001b[38;5;124m\"\u001b[39m\u001b[38;5;132;01m{\u001b[39;00madjacency_matrix[i,\u001b[38;5;250m \u001b[39mj]\u001b[38;5;132;01m:\u001b[39;00m\u001b[38;5;124m.2f\u001b[39m\u001b[38;5;132;01m}\u001b[39;00m\u001b[38;5;124m\"\u001b[39m)\n\u001b[1;32m     19\u001b[0m filename \u001b[38;5;241m=\u001b[39m \u001b[38;5;124m'\u001b[39m\u001b[38;5;124mcausal_graph\u001b[39m\u001b[38;5;124m'\u001b[39m\n\u001b[0;32m---> 20\u001b[0m dot\u001b[38;5;241m.\u001b[39mrender(filename, \u001b[38;5;28mformat\u001b[39m\u001b[38;5;241m=\u001b[39m\u001b[38;5;124m'\u001b[39m\u001b[38;5;124mpng\u001b[39m\u001b[38;5;124m'\u001b[39m, cleanup\u001b[38;5;241m=\u001b[39m\u001b[38;5;28;01mTrue\u001b[39;00m)\n\u001b[1;32m     21\u001b[0m \u001b[38;5;28mprint\u001b[39m(\u001b[38;5;124mf\u001b[39m\u001b[38;5;124m\"\u001b[39m\u001b[38;5;124mCausal graph image saved as \u001b[39m\u001b[38;5;132;01m{\u001b[39;00mfilename\u001b[38;5;132;01m}\u001b[39;00m\u001b[38;5;124m.png\u001b[39m\u001b[38;5;124m\"\u001b[39m)\n",
      "File \u001b[0;32m~/anaconda3/lib/python3.11/site-packages/graphviz/_tools.py:171\u001b[0m, in \u001b[0;36mdeprecate_positional_args.<locals>.decorator.<locals>.wrapper\u001b[0;34m(*args, **kwargs)\u001b[0m\n\u001b[1;32m    162\u001b[0m     wanted \u001b[38;5;241m=\u001b[39m \u001b[38;5;124m'\u001b[39m\u001b[38;5;124m, \u001b[39m\u001b[38;5;124m'\u001b[39m\u001b[38;5;241m.\u001b[39mjoin(\u001b[38;5;124mf\u001b[39m\u001b[38;5;124m'\u001b[39m\u001b[38;5;132;01m{\u001b[39;00mname\u001b[38;5;132;01m}\u001b[39;00m\u001b[38;5;124m=\u001b[39m\u001b[38;5;132;01m{\u001b[39;00mvalue\u001b[38;5;132;01m!r}\u001b[39;00m\u001b[38;5;124m'\u001b[39m\n\u001b[1;32m    163\u001b[0m                        \u001b[38;5;28;01mfor\u001b[39;00m name, value \u001b[38;5;129;01min\u001b[39;00m deprecated\u001b[38;5;241m.\u001b[39mitems())\n\u001b[1;32m    164\u001b[0m     warnings\u001b[38;5;241m.\u001b[39mwarn(\u001b[38;5;124mf\u001b[39m\u001b[38;5;124m'\u001b[39m\u001b[38;5;124mThe signature of \u001b[39m\u001b[38;5;132;01m{\u001b[39;00mfunc\u001b[38;5;241m.\u001b[39m\u001b[38;5;18m__name__\u001b[39m\u001b[38;5;132;01m}\u001b[39;00m\u001b[38;5;124m will be reduced\u001b[39m\u001b[38;5;124m'\u001b[39m\n\u001b[1;32m    165\u001b[0m                   \u001b[38;5;124mf\u001b[39m\u001b[38;5;124m'\u001b[39m\u001b[38;5;124m to \u001b[39m\u001b[38;5;132;01m{\u001b[39;00msupported_number\u001b[38;5;132;01m}\u001b[39;00m\u001b[38;5;124m positional args\u001b[39m\u001b[38;5;124m'\u001b[39m\n\u001b[1;32m    166\u001b[0m                   \u001b[38;5;124mf\u001b[39m\u001b[38;5;124m'\u001b[39m\u001b[38;5;124m \u001b[39m\u001b[38;5;132;01m{\u001b[39;00m\u001b[38;5;28mlist\u001b[39m(supported)\u001b[38;5;132;01m}\u001b[39;00m\u001b[38;5;124m: pass \u001b[39m\u001b[38;5;132;01m{\u001b[39;00mwanted\u001b[38;5;132;01m}\u001b[39;00m\u001b[38;5;124m'\u001b[39m\n\u001b[1;32m    167\u001b[0m                   \u001b[38;5;124m'\u001b[39m\u001b[38;5;124m as keyword arg(s)\u001b[39m\u001b[38;5;124m'\u001b[39m,\n\u001b[1;32m    168\u001b[0m                   stacklevel\u001b[38;5;241m=\u001b[39mstacklevel,\n\u001b[1;32m    169\u001b[0m                   category\u001b[38;5;241m=\u001b[39mcategory)\n\u001b[0;32m--> 171\u001b[0m \u001b[38;5;28;01mreturn\u001b[39;00m func(\u001b[38;5;241m*\u001b[39margs, \u001b[38;5;241m*\u001b[39m\u001b[38;5;241m*\u001b[39mkwargs)\n",
      "File \u001b[0;32m~/anaconda3/lib/python3.11/site-packages/graphviz/rendering.py:122\u001b[0m, in \u001b[0;36mRender.render\u001b[0;34m(self, filename, directory, view, cleanup, format, renderer, formatter, neato_no_op, quiet, quiet_view, outfile, engine, raise_if_result_exists, overwrite_source)\u001b[0m\n\u001b[1;32m    118\u001b[0m filepath \u001b[38;5;241m=\u001b[39m \u001b[38;5;28mself\u001b[39m\u001b[38;5;241m.\u001b[39msave(filename, directory\u001b[38;5;241m=\u001b[39mdirectory, skip_existing\u001b[38;5;241m=\u001b[39m\u001b[38;5;28;01mNone\u001b[39;00m)\n\u001b[1;32m    120\u001b[0m args\u001b[38;5;241m.\u001b[39mappend(filepath)\n\u001b[0;32m--> 122\u001b[0m rendered \u001b[38;5;241m=\u001b[39m \u001b[38;5;28mself\u001b[39m\u001b[38;5;241m.\u001b[39m_render(\u001b[38;5;241m*\u001b[39margs, \u001b[38;5;241m*\u001b[39m\u001b[38;5;241m*\u001b[39mkwargs)\n\u001b[1;32m    124\u001b[0m \u001b[38;5;28;01mif\u001b[39;00m cleanup:\n\u001b[1;32m    125\u001b[0m     log\u001b[38;5;241m.\u001b[39mdebug(\u001b[38;5;124m'\u001b[39m\u001b[38;5;124mdelete \u001b[39m\u001b[38;5;132;01m%r\u001b[39;00m\u001b[38;5;124m'\u001b[39m, filepath)\n",
      "File \u001b[0;32m~/anaconda3/lib/python3.11/site-packages/graphviz/_tools.py:171\u001b[0m, in \u001b[0;36mdeprecate_positional_args.<locals>.decorator.<locals>.wrapper\u001b[0;34m(*args, **kwargs)\u001b[0m\n\u001b[1;32m    162\u001b[0m     wanted \u001b[38;5;241m=\u001b[39m \u001b[38;5;124m'\u001b[39m\u001b[38;5;124m, \u001b[39m\u001b[38;5;124m'\u001b[39m\u001b[38;5;241m.\u001b[39mjoin(\u001b[38;5;124mf\u001b[39m\u001b[38;5;124m'\u001b[39m\u001b[38;5;132;01m{\u001b[39;00mname\u001b[38;5;132;01m}\u001b[39;00m\u001b[38;5;124m=\u001b[39m\u001b[38;5;132;01m{\u001b[39;00mvalue\u001b[38;5;132;01m!r}\u001b[39;00m\u001b[38;5;124m'\u001b[39m\n\u001b[1;32m    163\u001b[0m                        \u001b[38;5;28;01mfor\u001b[39;00m name, value \u001b[38;5;129;01min\u001b[39;00m deprecated\u001b[38;5;241m.\u001b[39mitems())\n\u001b[1;32m    164\u001b[0m     warnings\u001b[38;5;241m.\u001b[39mwarn(\u001b[38;5;124mf\u001b[39m\u001b[38;5;124m'\u001b[39m\u001b[38;5;124mThe signature of \u001b[39m\u001b[38;5;132;01m{\u001b[39;00mfunc\u001b[38;5;241m.\u001b[39m\u001b[38;5;18m__name__\u001b[39m\u001b[38;5;132;01m}\u001b[39;00m\u001b[38;5;124m will be reduced\u001b[39m\u001b[38;5;124m'\u001b[39m\n\u001b[1;32m    165\u001b[0m                   \u001b[38;5;124mf\u001b[39m\u001b[38;5;124m'\u001b[39m\u001b[38;5;124m to \u001b[39m\u001b[38;5;132;01m{\u001b[39;00msupported_number\u001b[38;5;132;01m}\u001b[39;00m\u001b[38;5;124m positional args\u001b[39m\u001b[38;5;124m'\u001b[39m\n\u001b[1;32m    166\u001b[0m                   \u001b[38;5;124mf\u001b[39m\u001b[38;5;124m'\u001b[39m\u001b[38;5;124m \u001b[39m\u001b[38;5;132;01m{\u001b[39;00m\u001b[38;5;28mlist\u001b[39m(supported)\u001b[38;5;132;01m}\u001b[39;00m\u001b[38;5;124m: pass \u001b[39m\u001b[38;5;132;01m{\u001b[39;00mwanted\u001b[38;5;132;01m}\u001b[39;00m\u001b[38;5;124m'\u001b[39m\n\u001b[1;32m    167\u001b[0m                   \u001b[38;5;124m'\u001b[39m\u001b[38;5;124m as keyword arg(s)\u001b[39m\u001b[38;5;124m'\u001b[39m,\n\u001b[1;32m    168\u001b[0m                   stacklevel\u001b[38;5;241m=\u001b[39mstacklevel,\n\u001b[1;32m    169\u001b[0m                   category\u001b[38;5;241m=\u001b[39mcategory)\n\u001b[0;32m--> 171\u001b[0m \u001b[38;5;28;01mreturn\u001b[39;00m func(\u001b[38;5;241m*\u001b[39margs, \u001b[38;5;241m*\u001b[39m\u001b[38;5;241m*\u001b[39mkwargs)\n",
      "File \u001b[0;32m~/anaconda3/lib/python3.11/site-packages/graphviz/backend/rendering.py:326\u001b[0m, in \u001b[0;36mrender\u001b[0;34m(engine, format, filepath, renderer, formatter, neato_no_op, quiet, outfile, raise_if_result_exists, overwrite_filepath)\u001b[0m\n\u001b[1;32m    322\u001b[0m cmd \u001b[38;5;241m+\u001b[39m\u001b[38;5;241m=\u001b[39m args\n\u001b[1;32m    324\u001b[0m \u001b[38;5;28;01massert\u001b[39;00m filepath \u001b[38;5;129;01mis\u001b[39;00m \u001b[38;5;129;01mnot\u001b[39;00m \u001b[38;5;28;01mNone\u001b[39;00m, \u001b[38;5;124m'\u001b[39m\u001b[38;5;124mwork around pytype false alarm\u001b[39m\u001b[38;5;124m'\u001b[39m\n\u001b[0;32m--> 326\u001b[0m execute\u001b[38;5;241m.\u001b[39mrun_check(cmd,\n\u001b[1;32m    327\u001b[0m                   cwd\u001b[38;5;241m=\u001b[39mfilepath\u001b[38;5;241m.\u001b[39mparent \u001b[38;5;28;01mif\u001b[39;00m filepath\u001b[38;5;241m.\u001b[39mparent\u001b[38;5;241m.\u001b[39mparts \u001b[38;5;28;01melse\u001b[39;00m \u001b[38;5;28;01mNone\u001b[39;00m,\n\u001b[1;32m    328\u001b[0m                   quiet\u001b[38;5;241m=\u001b[39mquiet,\n\u001b[1;32m    329\u001b[0m                   capture_output\u001b[38;5;241m=\u001b[39m\u001b[38;5;28;01mTrue\u001b[39;00m)\n\u001b[1;32m    331\u001b[0m \u001b[38;5;28;01mreturn\u001b[39;00m os\u001b[38;5;241m.\u001b[39mfspath(outfile)\n",
      "File \u001b[0;32m~/anaconda3/lib/python3.11/site-packages/graphviz/backend/execute.py:81\u001b[0m, in \u001b[0;36mrun_check\u001b[0;34m(cmd, input_lines, encoding, quiet, **kwargs)\u001b[0m\n\u001b[1;32m     79\u001b[0m \u001b[38;5;28;01mexcept\u001b[39;00m \u001b[38;5;167;01mOSError\u001b[39;00m \u001b[38;5;28;01mas\u001b[39;00m e:\n\u001b[1;32m     80\u001b[0m     \u001b[38;5;28;01mif\u001b[39;00m e\u001b[38;5;241m.\u001b[39merrno \u001b[38;5;241m==\u001b[39m errno\u001b[38;5;241m.\u001b[39mENOENT:\n\u001b[0;32m---> 81\u001b[0m         \u001b[38;5;28;01mraise\u001b[39;00m ExecutableNotFound(cmd) \u001b[38;5;28;01mfrom\u001b[39;00m \u001b[38;5;21;01me\u001b[39;00m\n\u001b[1;32m     82\u001b[0m     \u001b[38;5;28;01mraise\u001b[39;00m\n\u001b[1;32m     84\u001b[0m \u001b[38;5;28;01mif\u001b[39;00m \u001b[38;5;129;01mnot\u001b[39;00m quiet \u001b[38;5;129;01mand\u001b[39;00m proc\u001b[38;5;241m.\u001b[39mstderr:\n",
      "\u001b[0;31mExecutableNotFound\u001b[0m: failed to execute PosixPath('dot'), make sure the Graphviz executables are on your systems' PATH"
     ]
    }
   ],
   "source": [
    "from graphviz import Digraph\n",
    "\n",
    "# Function to plot causal graph using graphviz\n",
    "def plot_causal_graph(adjacency_matrix, labels):\n",
    "    print(\"Adjacency Matrix Dimensions:\", adjacency_matrix.shape)\n",
    "    print(\"Number of Labels:\", len(labels))\n",
    "\n",
    "    num_nodes = min(len(labels), adjacency_matrix.shape[0])\n",
    "\n",
    "    dot = Digraph(comment='Causal Graph')\n",
    "    for i in range(num_nodes):\n",
    "        dot.node(str(i), label=labels[i])\n",
    "\n",
    "    for i in range(num_nodes):\n",
    "        for j in range(num_nodes):\n",
    "            if adjacency_matrix[i, j] != 0:\n",
    "                dot.edge(str(i), str(j), label=f\"{adjacency_matrix[i, j]:.2f}\")\n",
    "\n",
    "    filename = 'causal_graph'\n",
    "    dot.render(filename, format='png', cleanup=True)\n",
    "    print(f\"Causal graph image saved as {filename}.png\")\n",
    "\n",
    "# Visualize the causal graph for the first 4 nodes\n",
    "plot_causal_graph(model.adjacency_matrix_, data.columns.to_list()[:4])\n"
   ]
  },
  {
   "cell_type": "code",
   "execution_count": null,
   "metadata": {
    "execution": {
     "iopub.execute_input": "2023-12-14T03:21:22.644785Z",
     "iopub.status.busy": "2023-12-14T03:21:22.644112Z",
     "iopub.status.idle": "2023-12-14T03:21:22.653144Z",
     "shell.execute_reply": "2023-12-14T03:21:22.652102Z",
     "shell.execute_reply.started": "2023-12-14T03:21:22.644755Z"
    },
    "id": "BMG8MkH6hD6m"
   },
   "outputs": [],
   "source": [
    "from IPython.display import Image\n",
    "\n",
    "# Display the causal graph image\n",
    "Image(filename='causal_graph.png')\n"
   ]
  },
  {
   "cell_type": "markdown",
   "metadata": {
    "id": "NBrEcoDKhD6m"
   },
   "source": [
    "The causal graph, generated from the LiNGAM model and visualized using the Graphviz library, is a representation of the inferred causal relationships among variables. Each node in the graph corresponds to a variable, and directed edges between nodes indicate a potential causal relationship from the source node to the target node.\n",
    "\n",
    "In the context of LiNGAM and causal graphs:\n",
    "\n",
    "1. **Nodes (Variables):** Each node represents a variable, such as a feature or factor in your dataset.\n",
    "\n",
    "2. **Directed Edges (Arrows):** The directed edges between nodes represent the direction of the causal relationship. An arrow from Node A to Node B suggests that changes in Node A may cause changes in Node B.\n",
    "\n",
    "3. **Adjacency Matrix Values:** The weight of each edge (arrow) is determined by the corresponding entry in the adjacency matrix. Larger absolute values in the matrix indicate a stronger causal relationship.\n",
    "\n",
    "4. **Acyclic Structure:** LiNGAM models specifically focus on acyclic graphs, meaning there are no cycles or feedback loops in the causal relationships. This acyclic structure is essential for identifying causal directions.\n",
    "\n",
    "5. **Graph Visualization:** The graph visualization provides an intuitive representation of the causal structure. It helps identify which variables are likely to be causes (sources) and which are likely to be effects (targets).\n",
    "\n",
    "**Interpretation:**\n",
    "-  If there's an arrow from Variable GDP per capita to Variable Happiness Score, it suggests that changes in GDP per capita may have a causal effect on Happiness Score.\n",
    "- The absence of an arrow between two variables indicates that there's no direct causal relationship between them (given the assumptions of the LiNGAM model).\n",
    "- For Healthy Life, there are outgoing causal effects to all the rest of the variables.\n",
    "- Freedom does have any connection from any other variables, neither incoming nor outgoing.\n",
    "- For Happiness Score, there is significant incoming causal effects from both GDP percapita and Social Support, while there is incoming causal effect from healthy life as well. It is not significant enough.\n",
    "\n",
    "\n",
    "**Importance:**\n",
    "- **Causal Inference:** The graph is a tool for inferring causal relationships. It doesn't prove causation, but it provides a structured representation of potential causal directions based on statistical patterns in the data.\n",
    "  \n",
    "- **Model Validation:** It helps validate the LiNGAM model's assumptions. If the graph aligns with domain knowledge and expectations, it adds confidence in the model's effectiveness.\n",
    "\n",
    "- **Decision Making:** Understanding causal relationships is crucial for decision-making. For example, in policy interventions, identifying variables that have a strong causal influence on desired outcomes can inform effective strategies."
   ]
  },
  {
   "cell_type": "code",
   "execution_count": 13,
   "metadata": {
    "execution": {
     "iopub.execute_input": "2023-12-14T03:21:22.654841Z",
     "iopub.status.busy": "2023-12-14T03:21:22.654532Z",
     "iopub.status.idle": "2023-12-14T03:21:22.719796Z",
     "shell.execute_reply": "2023-12-14T03:21:22.717697Z",
     "shell.execute_reply.started": "2023-12-14T03:21:22.654809Z"
    },
    "id": "y8jDrYD4hD6m"
   },
   "outputs": [
    {
     "name": "stdout",
     "output_type": "stream",
     "text": [
      "\n",
      "Causal Inference for GDP per capita as the treatment variable:\n",
      "Estimated Average Treatment Effect: 30.658384097717924\n",
      "\n",
      "Causal Inference for Social support as the treatment variable:\n",
      "Estimated Average Treatment Effect: 25.940450931637432\n",
      "\n",
      "Causal Inference for Healthy life as the treatment variable:\n",
      "Estimated Average Treatment Effect: 24.95617084015781\n",
      "\n",
      "Causal Inference for Freedom as the treatment variable:\n",
      "Estimated Average Treatment Effect: 27.81193433967488\n"
     ]
    },
    {
     "name": "stderr",
     "output_type": "stream",
     "text": [
      "/Users/anuj/anaconda3/lib/python3.11/site-packages/sklearn/utils/validation.py:767: FutureWarning: is_sparse is deprecated and will be removed in a future version. Check `isinstance(dtype, pd.SparseDtype)` instead.\n",
      "  if not hasattr(array, \"sparse\") and array.dtypes.apply(is_sparse).any():\n",
      "/Users/anuj/anaconda3/lib/python3.11/site-packages/sklearn/utils/validation.py:605: FutureWarning: is_sparse is deprecated and will be removed in a future version. Check `isinstance(dtype, pd.SparseDtype)` instead.\n",
      "  if is_sparse(pd_dtype):\n",
      "/Users/anuj/anaconda3/lib/python3.11/site-packages/sklearn/utils/validation.py:614: FutureWarning: is_sparse is deprecated and will be removed in a future version. Check `isinstance(dtype, pd.SparseDtype)` instead.\n",
      "  if is_sparse(pd_dtype) or not is_extension_array_dtype(pd_dtype):\n",
      "/Users/anuj/anaconda3/lib/python3.11/site-packages/sklearn/utils/validation.py:605: FutureWarning: is_sparse is deprecated and will be removed in a future version. Check `isinstance(dtype, pd.SparseDtype)` instead.\n",
      "  if is_sparse(pd_dtype):\n",
      "/Users/anuj/anaconda3/lib/python3.11/site-packages/sklearn/utils/validation.py:614: FutureWarning: is_sparse is deprecated and will be removed in a future version. Check `isinstance(dtype, pd.SparseDtype)` instead.\n",
      "  if is_sparse(pd_dtype) or not is_extension_array_dtype(pd_dtype):\n",
      "/Users/anuj/anaconda3/lib/python3.11/site-packages/sklearn/utils/validation.py:605: FutureWarning: is_sparse is deprecated and will be removed in a future version. Check `isinstance(dtype, pd.SparseDtype)` instead.\n",
      "  if is_sparse(pd_dtype):\n",
      "/Users/anuj/anaconda3/lib/python3.11/site-packages/sklearn/utils/validation.py:614: FutureWarning: is_sparse is deprecated and will be removed in a future version. Check `isinstance(dtype, pd.SparseDtype)` instead.\n",
      "  if is_sparse(pd_dtype) or not is_extension_array_dtype(pd_dtype):\n",
      "/Users/anuj/anaconda3/lib/python3.11/site-packages/sklearn/utils/validation.py:605: FutureWarning: is_sparse is deprecated and will be removed in a future version. Check `isinstance(dtype, pd.SparseDtype)` instead.\n",
      "  if is_sparse(pd_dtype):\n",
      "/Users/anuj/anaconda3/lib/python3.11/site-packages/sklearn/utils/validation.py:614: FutureWarning: is_sparse is deprecated and will be removed in a future version. Check `isinstance(dtype, pd.SparseDtype)` instead.\n",
      "  if is_sparse(pd_dtype) or not is_extension_array_dtype(pd_dtype):\n",
      "/Users/anuj/anaconda3/lib/python3.11/site-packages/sklearn/utils/validation.py:605: FutureWarning: is_sparse is deprecated and will be removed in a future version. Check `isinstance(dtype, pd.SparseDtype)` instead.\n",
      "  if is_sparse(pd_dtype):\n",
      "/Users/anuj/anaconda3/lib/python3.11/site-packages/sklearn/utils/validation.py:614: FutureWarning: is_sparse is deprecated and will be removed in a future version. Check `isinstance(dtype, pd.SparseDtype)` instead.\n",
      "  if is_sparse(pd_dtype) or not is_extension_array_dtype(pd_dtype):\n",
      "/Users/anuj/anaconda3/lib/python3.11/site-packages/sklearn/utils/validation.py:605: FutureWarning: is_sparse is deprecated and will be removed in a future version. Check `isinstance(dtype, pd.SparseDtype)` instead.\n",
      "  if is_sparse(pd_dtype):\n",
      "/Users/anuj/anaconda3/lib/python3.11/site-packages/sklearn/utils/validation.py:614: FutureWarning: is_sparse is deprecated and will be removed in a future version. Check `isinstance(dtype, pd.SparseDtype)` instead.\n",
      "  if is_sparse(pd_dtype) or not is_extension_array_dtype(pd_dtype):\n",
      "/Users/anuj/anaconda3/lib/python3.11/site-packages/sklearn/utils/validation.py:605: FutureWarning: is_sparse is deprecated and will be removed in a future version. Check `isinstance(dtype, pd.SparseDtype)` instead.\n",
      "  if is_sparse(pd_dtype):\n",
      "/Users/anuj/anaconda3/lib/python3.11/site-packages/sklearn/utils/validation.py:614: FutureWarning: is_sparse is deprecated and will be removed in a future version. Check `isinstance(dtype, pd.SparseDtype)` instead.\n",
      "  if is_sparse(pd_dtype) or not is_extension_array_dtype(pd_dtype):\n",
      "/Users/anuj/anaconda3/lib/python3.11/site-packages/sklearn/utils/validation.py:605: FutureWarning: is_sparse is deprecated and will be removed in a future version. Check `isinstance(dtype, pd.SparseDtype)` instead.\n",
      "  if is_sparse(pd_dtype):\n",
      "/Users/anuj/anaconda3/lib/python3.11/site-packages/sklearn/utils/validation.py:614: FutureWarning: is_sparse is deprecated and will be removed in a future version. Check `isinstance(dtype, pd.SparseDtype)` instead.\n",
      "  if is_sparse(pd_dtype) or not is_extension_array_dtype(pd_dtype):\n",
      "/Users/anuj/anaconda3/lib/python3.11/site-packages/sklearn/utils/validation.py:605: FutureWarning: is_sparse is deprecated and will be removed in a future version. Check `isinstance(dtype, pd.SparseDtype)` instead.\n",
      "  if is_sparse(pd_dtype):\n",
      "/Users/anuj/anaconda3/lib/python3.11/site-packages/sklearn/utils/validation.py:614: FutureWarning: is_sparse is deprecated and will be removed in a future version. Check `isinstance(dtype, pd.SparseDtype)` instead.\n",
      "  if is_sparse(pd_dtype) or not is_extension_array_dtype(pd_dtype):\n"
     ]
    }
   ],
   "source": [
    "import numpy as np\n",
    "from sklearn.model_selection import train_test_split\n",
    "from sklearn.linear_model import LinearRegression\n",
    "from sklearn.metrics import mean_squared_error\n",
    "from dowhy import CausalModel\n",
    "from lingam import DirectLiNGAM\n",
    "\n",
    "\n",
    "\n",
    "# Fit a LiNGAM model\n",
    "lingam_model = DirectLiNGAM()\n",
    "lingam_model.fit(train_data[features])\n",
    "\n",
    "# Perform causal inference using DoWhy for each feature\n",
    "for feature in features:\n",
    "    print(f\"\\nCausal Inference for {feature} as the treatment variable:\")\n",
    "\n",
    "    # Create a causal model for the specific feature\n",
    "    causal_model = CausalModel(\n",
    "        data=train_data,\n",
    "        treatment=feature,\n",
    "        outcome=outcome_variable,\n",
    "        common_causes=[col for col in features if col != feature]\n",
    "    )\n",
    "\n",
    "    # Identify the causal effect\n",
    "    identified_estimand = causal_model.identify_effect()\n",
    "\n",
    "    # Estimate the causal effect using LiNGAM coefficients\n",
    "    # Note: LiNGAM coefficients can be used in a linear regression model\n",
    "    lingam_coefs = lingam_model.adjacency_matrix_[features.index(feature), :]\n",
    "    test_data['Predicted Happiness Score'] = np.dot(test_data[features].values, lingam_coefs)\n",
    "\n",
    "    # Print the estimated average treatment effect\n",
    "    mse = mean_squared_error(test_data[outcome_variable], test_data['Predicted Happiness Score'])\n",
    "    print(f'Estimated Average Treatment Effect: {mse}')\n"
   ]
  },
  {
   "cell_type": "markdown",
   "metadata": {
    "id": "AS168AAYhD6m"
   },
   "source": [
    "The above values are estimated average treatment effects for each treatment variable (GDP per capita, Social support, Healthy life, and Freedom) based on the causal inference analysis using DoWhy and LiNGAM. The average treatment effect (ATE) represents the average causal effect of changing the treatment variable (in this case, each of the features) on the outcome variable (Happiness Score).\n",
    "\n",
    "Here's what each line means:\n",
    "\n",
    "1. **Causal Inference for GDP per capita as the treatment variable:**\n",
    "   - Estimated Average Treatment Effect: 30.66\n",
    "   - This suggests that, on average, a one-unit increase in GDP per capita is associated with an increase of approximately 30.66 units in Happiness Score.\n",
    "\n",
    "2. **Causal Inference for Social support as the treatment variable:**\n",
    "   - Estimated Average Treatment Effect: 25.94\n",
    "   - This suggests that, on average, a one-unit increase in Social support is associated with an increase of approximately 25.94 units in Happiness Score.\n",
    "\n",
    "3. **Causal Inference for Healthy life as the treatment variable:**\n",
    "   - Estimated Average Treatment Effect: 24.96\n",
    "   - This suggests that, on average, a one-unit increase in Healthy life is associated with an increase of approximately 24.96 units in Happiness Score.\n",
    "\n",
    "4. **Causal Inference for Freedom as the treatment variable:**\n",
    "   - Estimated Average Treatment Effect: 27.81\n",
    "   - This suggests that, on average, a one-unit increase in Freedom is associated with an increase of approximately 27.81 units in Happiness Score.\n",
    "\n",
    "These values indicate the average impact or influence of each feature on the Happiness Score, as estimated by the causal inference analysis. Keep in mind that these are average effects, and individual cases may vary. Additionally, the interpretation depends on the context and the units of measurement for each variable."
   ]
  },
  {
   "cell_type": "markdown",
   "metadata": {
    "id": "CKIac7GbhD6n"
   },
   "source": [
    "**Interpretation:**\n",
    "\n",
    "The average treatment effect (ATE) signifies the average impact of changing each treatment variable on the outcome variable, Happiness Score. Specifically, a one-unit increase in GDP per capita is associated with an average increase of approximately 30.66 units in Happiness Score. Similarly, a one-unit increase in Social support, Healthy life, and Freedom corresponds to average increases of around 25.94, 24.96, and 27.81 units in Happiness Score, respectively. These findings provide insights into the average influence of each feature on Happiness Score, bearing in mind that individual cases may exhibit variations. The interpretation is contingent on the specific context and the units of measurement for each variable."
   ]
  },
  {
   "cell_type": "code",
   "execution_count": 14,
   "metadata": {
    "execution": {
     "iopub.execute_input": "2023-12-14T03:21:22.721555Z",
     "iopub.status.busy": "2023-12-14T03:21:22.721235Z",
     "iopub.status.idle": "2023-12-14T03:21:23.035119Z",
     "shell.execute_reply": "2023-12-14T03:21:23.033239Z",
     "shell.execute_reply.started": "2023-12-14T03:21:22.721528Z"
    },
    "id": "zyHxssuPhD6n"
   },
   "outputs": [
    {
     "name": "stdout",
     "output_type": "stream",
     "text": [
      "Causal Ordering: [0, 1, 2, 3]\n"
     ]
    },
    {
     "name": "stderr",
     "output_type": "stream",
     "text": [
      "/Users/anuj/anaconda3/lib/python3.11/site-packages/sklearn/utils/validation.py:767: FutureWarning: is_sparse is deprecated and will be removed in a future version. Check `isinstance(dtype, pd.SparseDtype)` instead.\n",
      "  if not hasattr(array, \"sparse\") and array.dtypes.apply(is_sparse).any():\n",
      "/Users/anuj/anaconda3/lib/python3.11/site-packages/sklearn/utils/validation.py:605: FutureWarning: is_sparse is deprecated and will be removed in a future version. Check `isinstance(dtype, pd.SparseDtype)` instead.\n",
      "  if is_sparse(pd_dtype):\n",
      "/Users/anuj/anaconda3/lib/python3.11/site-packages/sklearn/utils/validation.py:614: FutureWarning: is_sparse is deprecated and will be removed in a future version. Check `isinstance(dtype, pd.SparseDtype)` instead.\n",
      "  if is_sparse(pd_dtype) or not is_extension_array_dtype(pd_dtype):\n"
     ]
    },
    {
     "data": {
      "image/png": "[encoded data removed]",
      "text/plain": [
       "<Figure size 1000x800 with 2 Axes>"
      ]
     },
     "metadata": {},
     "output_type": "display_data"
    },
    {
     "name": "stdout",
     "output_type": "stream",
     "text": [
      "0 is caused by GDP per capita, Social support, Healthy life\n",
      "1 is caused by Social support, Healthy life\n",
      "2 is caused by Healthy life\n",
      "3 is independent of other variables\n"
     ]
    }
   ],
   "source": [
    "\n",
    "import matplotlib.pyplot as plt\n",
    "\n",
    "# Assuming 'df' is your DataFrame with relevant variables\n",
    "\n",
    "# Fit a LiNGAM model\n",
    "lingam_model = DirectLiNGAM()\n",
    "lingam_model.fit(train_data[features])\n",
    "\n",
    "# Causal ordering of variables\n",
    "causal_order = lingam_model.causal_order_\n",
    "\n",
    "# Causal coefficients\n",
    "causal_effects = lingam_model.adjacency_matrix_\n",
    "\n",
    "# Visualize causal ordering\n",
    "print(\"Causal Ordering:\", causal_order)\n",
    "\n",
    "# Visualize causal effects\n",
    "plt.figure(figsize=(10, 8))\n",
    "sns.heatmap(\n",
    "    causal_effects,\n",
    "    annot=True,\n",
    "    cmap=\"coolwarm\",\n",
    "    fmt=\".2f\",  # Format for the annotations (2 decimal places)\n",
    "    linewidths=0.5,\n",
    "    square=True,\n",
    "    cbar_kws={\"shrink\": 0.75}  # Adjust color bar size\n",
    ")\n",
    "\n",
    "plt.title(\"LiNGAM Causal Effects Heatmap\")\n",
    "plt.show()\n",
    "\n",
    "# Interpret the causal effects based on the ordering and coefficients\n",
    "for i, variable in enumerate(causal_order):\n",
    "    parents = [col for col, coef in zip(df.columns, causal_effects[:, i]) if coef != 0]\n",
    "    if parents:\n",
    "        print(f\"{variable} is caused by {', '.join(parents)}\")\n",
    "    else:\n",
    "        print(f\"{variable} is independent of other variables\")\n"
   ]
  },
  {
   "cell_type": "markdown",
   "metadata": {
    "id": "M9Sjpd9EhD6n"
   },
   "source": [
    "A **LiNGAM (Linear Non-Gaussian Acyclic Model) Causal Effects Heatmap** typically shows the estimated causal effects between different variables in a dataset. In the context of your analysis, it likely displays the causal relationships and the strength of the causal effects between the features (independent variables) and the outcome variable (Happiness Score).\n",
    "\n",
    "\n",
    "- The printed output displays the results of a LiNGAM analysis, a method for uncovering causal relationships in a dataset. The adjacency matrix reveals the strength of directed causal connections between variables, where non-zero values in off-diagonal elements indicate the magnitude of the causal influence.\n",
    "\n",
    "**For instance, a value of 0.45 in position (1, 0) suggests a causal relationship from  GDP per capita to Happiness score.**\n",
    "\n",
    "\n",
    "- The causal ordering, represented as [0, 1, 2, 3], specifies the order in which variables are causally connected. This information is crucial for understanding the causal structure among variables, providing insights into the underlying relationships in the data.\n",
    "\n",
    "- Where 0 is Happiness score\n",
    "- 1 is GDP Percapita\n",
    "- 2 is Social support\n",
    "- 3 is Healthy Life"
   ]
  },
  {
   "cell_type": "markdown",
   "metadata": {
    "id": "jiaDJ-bfhD6n"
   },
   "source": [
    "**CONCLUSION**\n",
    "\n",
    "- 1. The analysis employed LiNGAM to uncover causal relationships among variables in the dataset, revealing a causal ordering [0, 1, 2, 3] indicative of a sequence from Happiness Score to GDP per capita, Social support, and Healthy life.\n",
    "- 2. The adjacency matrix showcased the strength of directed causal connections, notably highlighting a significant causal effect (0.45) from GDP per capita to Happiness Score. For instance, a value of 0.45 in position (1, 0) suggests a causal relationship from  GDP per capita to Happiness score.\n",
    "- 3. The LiNGAM Causal Effects Heatmap likely provided a visual summary of estimated effects, though specific values were not detailed.\n",
    "- 4. The average treatment effects, derived from the DoWhy causal inference analysis, further emphasized the influential role of each variable on Happiness Score. GDP per capita demonstrated the highest estimated effect (30.66), followed by Freedom (27.81), Social support (25.94), and Healthy life (24.96).\n",
    "- 5. Together, these findings offer a comprehensive understanding of the intricate causal relationships, shedding light on factors influencing happiness and informing potential interventions or policy decisions."
   ]
  },
  {
   "cell_type": "markdown",
   "metadata": {
    "id": "qoiAmY3vhD6n"
   },
   "source": [
    "**References:**\n",
    "\n",
    "https://medium.com/data-science-at-microsoft/causal-inference-part-1-of-3-understanding-the-fundamentals-816f4723e54a\n",
    "\n",
    "https://github.com/py-why/dowhy\n",
    "\n",
    "https://lingam.readthedocs.io/en/latest/tutorial/lingam.html\n"
   ]
  },
  {
   "cell_type": "markdown",
   "metadata": {
    "id": "rYXwXfohhD6n"
   },
   "source": [
    "MIT License\n",
    "\n",
    "Copyright (c) 2023 Sri Venkata Satya Akhil Malladi\n",
    "\n",
    "Permission is hereby granted, free of charge, to any person obtaining a copy of this software and associated documentation files (the \"Software\"), to deal in the Software without restriction, including without limitation the rights to use, copy, modify, merge, publish, distribute, sublicense, and/or sell copies of the Software, and to permit persons to whom the Software is furnished to do so, subject to the following conditions:\n",
    "\n",
    "The above copyright notice and this permission notice shall be included in all copies or substantial portions of the Software.\n",
    "\n",
    "THE SOFTWARE IS PROVIDED \"AS IS\", WITHOUT WARRANTY OF ANY KIND, EXPRESS OR IMPLIED, INCLUDING BUT NOT LIMITED TO THE WARRANTIES OF MERCHANTABILITY, FITNESS FOR A PARTICULAR PURPOSE AND NONINFRINGEMENT. IN NO EVENT SHALL THE AUTHORS OR COPYRIGHT HOLDERS BE LIABLE FOR ANY CLAIM, DAMAGES OR OTHER LIABILITY, WHETHER IN AN ACTION OF CONTRACT, TORT OR OTHERWISE, ARISING FROM, OUT OF OR IN CONNECTION WITH THE SOFTWARE OR THE USE OR OTHER DEALINGS IN THE SOFTWARE."
   ]
  },
  {
   "cell_type": "code",
   "execution_count": null,
   "metadata": {},
   "outputs": [],
   "source": []
  },
  {
   "cell_type": "code",
   "execution_count": null,
   "metadata": {},
   "outputs": [],
   "source": []
  }
 ],
 "metadata": {
  "colab": {
   "name": "Causal Inference by LiNGAM",
   "provenance": []
  },
  "kaggle": {
   "accelerator": "none",
   "dataSources": [
    {
     "datasetId": 2661845,
     "sourceId": 4561414,
     "sourceType": "datasetVersion"
    }
   ],
   "dockerImageVersionId": 30626,
   "isGpuEnabled": false,
   "isInternetEnabled": true,
   "language": "python",
   "sourceType": "notebook"
  },
  "kernelspec": {
   "display_name": "Python 3 (ipykernel)",
   "language": "python",
   "name": "python3"
  },
  "language_info": {
   "codemirror_mode": {
    "name": "ipython",
    "version": 3
   },
   "file_extension": ".py",
   "mimetype": "text/x-python",
   "name": "python",
   "nbconvert_exporter": "python",
   "pygments_lexer": "ipython3",
   "version": "3.11.5"
  }
 },
 "nbformat": 4,
 "nbformat_minor": 1
}
